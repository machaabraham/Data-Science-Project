{
 "cells": [
  {
   "cell_type": "code",
   "execution_count": 27,
   "metadata": {},
   "outputs": [
    {
     "data": {
      "text/plain": [
       "12.415237668241707"
      ]
     },
     "execution_count": 27,
     "metadata": {},
     "output_type": "execute_result"
    }
   ],
   "source": [
    "import matplotlib.pyplot as plt\n",
    "from sklearn.model_selection import train_test_split\n",
    "import pandas as pd\n",
    "from sklearn.cross_validation import train_test_split\n",
    "import matplotlib.pyplot as plt\n",
    "from sklearn import metrics\n",
    "import numpy as np\n",
    "from sklearn.linear_model import LinearRegression\n",
    "reg=LinearRegression()\n",
    "data_ob=pd.read_csv(\"Infant-Mortality-Rate-Tz.csv\")\n",
    "data=np.sort(data_ob)\n",
    "dataframe=pd.DataFrame(data,columns=['Value','Rate','Year'])\n",
    "x=np.array(dataframe.Year)\n",
    "y=np.array(dataframe.Rate)\n",
    "x_train,x_test,y_train,y_test=train_test_split(x,y, test_size=0.50, random_state=4)\n",
    "reg.fit(x_train.reshape(-1,1),y_train)\n",
    "y_pred=reg.predict(x_test.reshape(-1,1))\n",
    "from sklearn.metrics import mean_squared_error\n",
    "mean_squared_error(y_test,y_pred)"
   ]
  },
  {
   "cell_type": "code",
   "execution_count": 31,
   "metadata": {},
   "outputs": [
    {
     "name": "stdout",
     "output_type": "stream",
     "text": [
      "MAE 3.842810589450492\n"
     ]
    }
   ],
   "source": [
    "from sklearn.datasets import load_boston\n",
    "boston = load_boston()\n",
    "from sklearn.cross_validation import train_test_split\n",
    "X_train, X_test, y_train, y_test = train_test_split(boston.data,boston.target, test_size=0.2, random_state=0)\n",
    "from sklearn.linear_model import LinearRegression\n",
    "regr = LinearRegression()\n",
    "regr.fit(X_train, y_train)\n",
    "y_pred = regr.predict(X_test)\n",
    "from sklearn.metrics import mean_absolute_error\n",
    "print(\"MAE\", mean_absolute_error(y_test, y_pred))"
   ]
  },
  {
   "cell_type": "code",
   "execution_count": 35,
   "metadata": {},
   "outputs": [
    {
     "name": "stdout",
     "output_type": "stream",
     "text": [
      "             precision    recall  f1-score   support\n",
      "\n",
      "          0       0.81      0.92      0.86        61\n",
      "          1       0.85      0.68      0.76        41\n",
      "\n",
      "avg / total       0.83      0.82      0.82       102\n",
      "\n"
     ]
    }
   ],
   "source": [
    "#logistic Regression form a binary classification problem\n",
    "from sklearn.linear_model import LogisticRegression\n",
    "from sklearn.datasets import load_boston\n",
    "boston = load_boston()\n",
    "from sklearn.cross_validation import train_test_split\n",
    "X_train, X_test, y_train, y_test = train_test_split(boston.data,boston.target, test_size=0.2, random_state=0)\n",
    "import numpy as np\n",
    "avg_price_house = np.average(boston.target)\n",
    "high_priced_idx = (y_train >= avg_price_house)\n",
    "y_train[high_priced_idx] = 1\n",
    "y_train[np.logical_not(high_priced_idx)] = 0\n",
    "y_train = y_train.astype(np.int8)\n",
    "high_priced_idx = (y_test >= avg_price_house)\n",
    "y_test[high_priced_idx] = 1\n",
    "y_test[np.logical_not(high_priced_idx)] = 0\n",
    "y_test = y_test.astype(np.int8)\n",
    "clf = LogisticRegression()\n",
    "clf.fit(X_train,y_train)\n",
    "y_pred = clf.predict(X_test)\n",
    "from sklearn.metrics import classification_report\n",
    "print(classification_report(y_test, y_pred))"
   ]
  }
 ],
 "metadata": {
  "kernelspec": {
   "display_name": "Python 3",
   "language": "python",
   "name": "python3"
  },
  "language_info": {
   "codemirror_mode": {
    "name": "ipython",
    "version": 3
   },
   "file_extension": ".py",
   "mimetype": "text/x-python",
   "name": "python",
   "nbconvert_exporter": "python",
   "pygments_lexer": "ipython3",
   "version": "3.6.5"
  }
 },
 "nbformat": 4,
 "nbformat_minor": 2
}
