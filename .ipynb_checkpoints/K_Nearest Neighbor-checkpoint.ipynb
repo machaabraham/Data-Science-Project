{
 "cells": [
  {
   "cell_type": "code",
   "execution_count": null,
   "metadata": {},
   "outputs": [],
   "source": [
    "from sklearn.utils import shuffle\n",
    "from sklearn.datasets import fetch_mldata\n",
    "from sklearn.model_selection import train_test_split\n",
    "mnist = fetch_mldata(\"MNIST original\")\n",
    "mnist.data, mnist.target = shuffle(mnist.data, mnist.target)\n",
    "# We reduce the dataset size, otherwise it'll take too much time to run\n",
    "mnist.data = mnist.data[:1000]\n",
    "mnist.target = mnist.target[:1000]\n",
    "X_train, X_test, y_train, y_test = train_test_split(mnist.data, mnist.\n",
    "target, test_size=0.8, random_state=0)\n",
    "from sklearn.neighbors import KNeighborsClassifier\n",
    "# KNN: K=10, default measure of distance (euclidean)\n",
    "clf = KNeighborsClassifier(3)\n",
    "clf.fit(X_train, y_train)\n",
    "y_pred = clf.predict(X_test)\n",
    "print(y_pred)\n",
    "from sklearn.metrics import classification_report\n",
    "print(classification_report(y_test, y_pred))"
   ]
  },
  {
   "cell_type": "code",
   "execution_count": null,
   "metadata": {},
   "outputs": [],
   "source": []
  }
 ],
 "metadata": {
  "kernelspec": {
   "display_name": "Python 3",
   "language": "python",
   "name": "python3"
  },
  "language_info": {
   "codemirror_mode": {
    "name": "ipython",
    "version": 3
   },
   "file_extension": ".py",
   "mimetype": "text/x-python",
   "name": "python",
   "nbconvert_exporter": "python",
   "pygments_lexer": "ipython3",
   "version": "3.6.5"
  }
 },
 "nbformat": 4,
 "nbformat_minor": 2
}
